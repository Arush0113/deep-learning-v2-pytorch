{
 "cells": [
  {
   "cell_type": "markdown",
   "metadata": {},
   "source": [
    "# Character-Level LSTM in PyTorch\n",
    "\n",
    "In this notebook, I'll construct a character-level LSTM with PyTorch. The network will train character by character on some text, then generate new text character by character. As an example, I will train on Anna Karenina. **This model will be able to generate new text based on the text from the book!**\n",
    "\n",
    "This network is based off of Andrej Karpathy's [post on RNNs](http://karpathy.github.io/2015/05/21/rnn-effectiveness/) and [implementation in Torch](https://github.com/karpathy/char-rnn). Below is the general architecture of the character-wise RNN.\n",
    "\n",
    "<img src=\"assets/charseq.jpeg\" width=\"500\">"
   ]
  },
  {
   "cell_type": "markdown",
   "metadata": {},
   "source": [
    "First let's load in our required resources for data loading and model creation."
   ]
  },
  {
   "cell_type": "code",
   "execution_count": 1,
   "metadata": {},
   "outputs": [],
   "source": [
    "import numpy as np\n",
    "import torch\n",
    "from torch import nn\n",
    "import torch.nn.functional as F"
   ]
  },
  {
   "cell_type": "markdown",
   "metadata": {},
   "source": [
    "## Load in Data\n",
    "\n",
    "Then, we'll load the Anna Karenina text file and convert it into integers for our network to use. "
   ]
  },
  {
   "cell_type": "code",
   "execution_count": 2,
   "metadata": {},
   "outputs": [],
   "source": [
    "# open text file and read in data as `text`\n",
    "with open('data/anna.txt', 'r') as f:\n",
    "    text = f.read()"
   ]
  },
  {
   "cell_type": "markdown",
   "metadata": {},
   "source": [
    "Let's check out the first 100 characters, make sure everything is peachy. According to the [American Book Review](http://americanbookreview.org/100bestlines.asp), this is the 6th best first line of a book ever."
   ]
  },
  {
   "cell_type": "code",
   "execution_count": 3,
   "metadata": {},
   "outputs": [
    {
     "data": {
      "text/plain": [
       "'Chapter 1\\n\\n\\nHappy families are all alike; every unhappy family is unhappy in its own\\nway.\\n\\nEverythin'"
      ]
     },
     "execution_count": 3,
     "metadata": {},
     "output_type": "execute_result"
    }
   ],
   "source": [
    "text[:100]"
   ]
  },
  {
   "cell_type": "markdown",
   "metadata": {},
   "source": [
    "### Tokenization\n",
    "\n",
    "In the cells, below, I'm creating a couple **dictionaries** to convert the characters to and from integers. Encoding the characters as integers makes it easier to use as input in the network."
   ]
  },
  {
   "cell_type": "code",
   "execution_count": 11,
   "metadata": {},
   "outputs": [
    {
     "name": "stdout",
     "output_type": "stream",
     "text": [
      "('p', 'U', '1', 'N', '*', ':', '\\n', 'S', 'Q', 'i', 'd', 'K', 'g', 'j', 'u', '\"', '9', 'H', 'T', 'F', 'W', ' ', 'I', 'v', 'k', 'J', 'm', 'Z', 'o', '`', 'z', '-', '3', 'y', 't', 'l', 'D', 'B', '?', 'x', 'A', '2', 'r', 'c', 'O', 'C', 'e', 'n', 's', 'L', '.', 'f', '(', 'V', ')', 'M', 'G', '8', ';', 'E', 'b', '%', 'Y', '!', 'w', '@', 'h', ',', '4', '$', \"'\", '/', '6', '&', 'a', 'R', '5', '0', 'P', '_', '7', 'q', 'X')\n"
     ]
    },
    {
     "data": {
      "text/plain": [
       "1985223"
      ]
     },
     "execution_count": 11,
     "metadata": {},
     "output_type": "execute_result"
    }
   ],
   "source": [
    "# encode the text and map each character to an integer and vice versa\n",
    "\n",
    "# we create two dictionaries:\n",
    "# 1. int2char, which maps integers to characters\n",
    "# 2. char2int, which maps characters to unique integers\n",
    "chars = tuple(set(text))\n",
    "print(chars)\n",
    "# print(enumerate(chars))\n",
    "int2char = dict(enumerate(chars))\n",
    "# print(int2char)\n",
    "# print(int2char.items())\n",
    "char2int = {ch: ii for ii, ch in int2char.items()}\n",
    "\n",
    "# encode the text\n",
    "encoded = np.array([char2int[ch] for ch in text])\n",
    "len(encoded)"
   ]
  },
  {
   "cell_type": "markdown",
   "metadata": {},
   "source": [
    "And we can see those same characters from above, encoded as integers."
   ]
  },
  {
   "cell_type": "code",
   "execution_count": 22,
   "metadata": {},
   "outputs": [
    {
     "data": {
      "text/plain": [
       "array([45, 66, 74,  0, 34, 46, 42, 21,  2,  6,  6,  6, 17, 74,  0,  0, 33,\n",
       "       21, 51, 74, 26,  9, 35,  9, 46, 48, 21, 74, 42, 46, 21, 74, 35, 35,\n",
       "       21, 74, 35,  9, 24, 46, 58, 21, 46, 23, 46, 42, 33, 21, 14, 47, 66,\n",
       "       74,  0,  0, 33, 21, 51, 74, 26,  9, 35, 33, 21,  9, 48, 21, 14, 47,\n",
       "       66, 74,  0,  0, 33, 21,  9, 47, 21,  9, 34, 48, 21, 28, 64, 47,  6,\n",
       "       64, 74, 33, 50,  6,  6, 59, 23, 46, 42, 33, 34, 66,  9, 47])"
      ]
     },
     "execution_count": 22,
     "metadata": {},
     "output_type": "execute_result"
    }
   ],
   "source": [
    "encoded[:100]"
   ]
  },
  {
   "cell_type": "markdown",
   "metadata": {},
   "source": [
    "## Pre-processing the data\n",
    "\n",
    "As you can see in our char-RNN image above, our LSTM expects an input that is **one-hot encoded** meaning that each character is converted into an integer (via our created dictionary) and *then* converted into a column vector where only it's corresponding integer index will have the value of 1 and the rest of the vector will be filled with 0's. Since we're one-hot encoding the data, let's make a function to do that!\n"
   ]
  },
  {
   "cell_type": "code",
   "execution_count": 23,
   "metadata": {},
   "outputs": [],
   "source": [
    "def one_hot_encode(arr, n_labels):\n",
    "    \n",
    "    # Initialize the the encoded array\n",
    "    one_hot = np.zeros((arr.size, n_labels), dtype=np.float32)\n",
    "    \n",
    "    # Fill the appropriate elements with ones\n",
    "    one_hot[np.arange(one_hot.shape[0]), arr.flatten()] = 1.\n",
    "    \n",
    "    # Finally reshape it to get back to the original array\n",
    "    one_hot = one_hot.reshape((*arr.shape, n_labels))\n",
    "    \n",
    "    return one_hot"
   ]
  },
  {
   "cell_type": "code",
   "execution_count": 24,
   "metadata": {},
   "outputs": [
    {
     "name": "stdout",
     "output_type": "stream",
     "text": [
      "[[[0. 0. 0. 1. 0. 0. 0. 0.]\n",
      "  [0. 0. 0. 0. 0. 1. 0. 0.]\n",
      "  [0. 1. 0. 0. 0. 0. 0. 0.]]]\n"
     ]
    }
   ],
   "source": [
    "# check that the function works as expected\n",
    "test_seq = np.array([[3, 5, 1]])\n",
    "one_hot = one_hot_encode(test_seq, 8)\n",
    "\n",
    "print(one_hot)"
   ]
  },
  {
   "cell_type": "markdown",
   "metadata": {},
   "source": [
    "## Making training mini-batches\n",
    "\n",
    "\n",
    "To train on this data, we also want to create mini-batches for training. Remember that we want our batches to be multiple sequences of some desired number of sequence steps. Considering a simple example, our batches would look like this:\n",
    "\n",
    "<img src=\"assets/sequence_batching@1x.png\" width=500px>\n",
    "\n",
    "\n",
    "<br>\n",
    "\n",
    "In this example, we'll take the encoded characters (passed in as the `arr` parameter) and split them into multiple sequences, given by `batch_size`. Each of our sequences will be `seq_length` long.\n",
    "\n",
    "### Creating Batches\n",
    "\n",
    "**1. The first thing we need to do is discard some of the text so we only have completely full mini-batches. **\n",
    "\n",
    "Each batch contains $N \\times M$ characters, where $N$ is the batch size (the number of sequences in a batch) and $M$ is the seq_length or number of time steps in a sequence. Then, to get the total number of batches, $K$, that we can make from the array `arr`, you divide the length of `arr` by the number of characters per batch. Once you know the number of batches, you can get the total number of characters to keep from `arr`, $N * M * K$.\n",
    "\n",
    "**2. After that, we need to split `arr` into $N$ batches. ** \n",
    "\n",
    "You can do this using `arr.reshape(size)` where `size` is a tuple containing the dimensions sizes of the reshaped array. We know we want $N$ sequences in a batch, so let's make that the size of the first dimension. For the second dimension, you can use `-1` as a placeholder in the size, it'll fill up the array with the appropriate data for you. After this, you should have an array that is $N \\times (M * K)$.\n",
    "\n",
    "**3. Now that we have this array, we can iterate through it to get our mini-batches. **\n",
    "\n",
    "The idea is each batch is a $N \\times M$ window on the $N \\times (M * K)$ array. For each subsequent batch, the window moves over by `seq_length`. We also want to create both the input and target arrays. Remember that the targets are just the inputs shifted over by one character. The way I like to do this window is use `range` to take steps of size `n_steps` from $0$ to `arr.shape[1]`, the total number of tokens in each sequence. That way, the integers you get from `range` always point to the start of a batch, and each window is `seq_length` wide.\n",
    "\n",
    "> **TODO:** Write the code for creating batches in the function below. The exercises in this notebook _will not be easy_. I've provided a notebook with solutions alongside this notebook. If you get stuck, checkout the solutions. The most important thing is that you don't copy and paste the code into here, **type out the solution code yourself.**"
   ]
  },
  {
   "cell_type": "code",
   "execution_count": 25,
   "metadata": {},
   "outputs": [],
   "source": [
    "def get_batches(arr, batch_size, seq_length):\n",
    "    '''Create a generator that returns batches of size\n",
    "       batch_size x seq_length from arr.\n",
    "       \n",
    "       Arguments\n",
    "       ---------\n",
    "       arr: Array you want to make batches from\n",
    "       batch_size: Batch size, the number of sequences per batch\n",
    "       seq_length: Number of encoded chars in a sequence\n",
    "    '''\n",
    "    \n",
    "    ## TODO: Get the number of batches we can make\n",
    "    n_batches = arr.size//(batch_size * seq_length)\n",
    "    \n",
    "    ## TODO: Keep only enough characters to make full batches\n",
    "#     arr = arr[:int(arr.shape[0]/batch_size) * batch_size, :int(arr.shape[1]/seq_length) * seq_length]\n",
    "    arr = arr[:n_batches * batch_size * seq_length]\n",
    "    \n",
    "    ## TODO: Reshape into batch_size rows\n",
    "    \n",
    "#     arr = arr.flatten()\n",
    "    \n",
    "    arr = arr.reshape(batch_size, -1)\n",
    "    \n",
    "    ## TODO: Iterate over the batches using a window of size seq_length\n",
    "    for n in range(0, arr.shape[1], seq_length):\n",
    "        # The features\n",
    "        x = arr[:, n:n+seq_length]\n",
    "        # The targets, shifted by one\n",
    "        y = np.zeros_like(x)\n",
    "        try:\n",
    "            y[:, :-1], y[:, -1] = x[:, 1:], arr[:, n+seq_length]\n",
    "        except IndexError:\n",
    "            y[:, :-1], y[:, -1] = x[:, 1:], arr[:, 0]\n",
    "        yield x, y"
   ]
  },
  {
   "cell_type": "markdown",
   "metadata": {},
   "source": [
    "### Test Your Implementation\n",
    "\n",
    "Now I'll make some data sets and we can check out what's going on as we batch data. Here, as an example, I'm going to use a batch size of 8 and 50 sequence steps."
   ]
  },
  {
   "cell_type": "code",
   "execution_count": 26,
   "metadata": {},
   "outputs": [],
   "source": [
    "batches = get_batches(encoded, 8, 50)\n",
    "x, y = next(batches)"
   ]
  },
  {
   "cell_type": "code",
   "execution_count": 28,
   "metadata": {},
   "outputs": [
    {
     "name": "stdout",
     "output_type": "stream",
     "text": [
      "x\n",
      " [[45 66 74  0 34 46 42 21  2  6]\n",
      " [48 28 47 21 34 66 74 34 21 74]\n",
      " [46 47 10 21 28 42 21 74 21 51]\n",
      " [48 21 34 66 46 21 43 66  9 46]\n",
      " [21 48 74 64 21 66 46 42 21 34]\n",
      " [43 14 48 48  9 28 47 21 74 47]\n",
      " [21 40 47 47 74 21 66 74 10 21]\n",
      " [44 60 35 28 47 48 24 33 50 21]]\n",
      "\n",
      "y\n",
      " [[66 74  0 34 46 42 21  2  6  6]\n",
      " [28 47 21 34 66 74 34 21 74 34]\n",
      " [47 10 21 28 42 21 74 21 51 28]\n",
      " [21 34 66 46 21 43 66  9 46 51]\n",
      " [48 74 64 21 66 46 42 21 34 46]\n",
      " [14 48 48  9 28 47 21 74 47 10]\n",
      " [40 47 47 74 21 66 74 10 21 48]\n",
      " [60 35 28 47 48 24 33 50 21 15]]\n"
     ]
    }
   ],
   "source": [
    "# printing out the first 10 items in a sequence\n",
    "print('x\\n', x[:10, :10])\n",
    "print('\\ny\\n', y[:10, :10])"
   ]
  },
  {
   "cell_type": "markdown",
   "metadata": {},
   "source": [
    "If you implemented `get_batches` correctly, the above output should look something like \n",
    "```\n",
    "x\n",
    " [[25  8 60 11 45 27 28 73  1  2]\n",
    " [17  7 20 73 45  8 60 45 73 60]\n",
    " [27 20 80 73  7 28 73 60 73 65]\n",
    " [17 73 45  8 27 73 66  8 46 27]\n",
    " [73 17 60 12 73  8 27 28 73 45]\n",
    " [66 64 17 17 46  7 20 73 60 20]\n",
    " [73 76 20 20 60 73  8 60 80 73]\n",
    " [47 35 43  7 20 17 24 50 37 73]]\n",
    "\n",
    "y\n",
    " [[ 8 60 11 45 27 28 73  1  2  2]\n",
    " [ 7 20 73 45  8 60 45 73 60 45]\n",
    " [20 80 73  7 28 73 60 73 65  7]\n",
    " [73 45  8 27 73 66  8 46 27 65]\n",
    " [17 60 12 73  8 27 28 73 45 27]\n",
    " [64 17 17 46  7 20 73 60 20 80]\n",
    " [76 20 20 60 73  8 60 80 73 17]\n",
    " [35 43  7 20 17 24 50 37 73 36]]\n",
    " ```\n",
    " although the exact numbers may be different. Check to make sure the data is shifted over one step for `y`."
   ]
  },
  {
   "cell_type": "markdown",
   "metadata": {},
   "source": [
    "---\n",
    "## Defining the network with PyTorch\n",
    "\n",
    "Below is where you'll define the network.\n",
    "\n",
    "<img src=\"assets/charRNN.png\" width=500px>\n",
    "\n",
    "Next, you'll use PyTorch to define the architecture of the network. We start by defining the layers and operations we want. Then, define a method for the forward pass. You've also been given a method for predicting characters."
   ]
  },
  {
   "cell_type": "markdown",
   "metadata": {},
   "source": [
    "### Model Structure\n",
    "\n",
    "In `__init__` the suggested structure is as follows:\n",
    "* Create and store the necessary dictionaries (this has been done for you)\n",
    "* Define an LSTM layer that takes as params: an input size (the number of characters), a hidden layer size `n_hidden`, a number of layers `n_layers`, a dropout probability `drop_prob`, and a batch_first boolean (True, since we are batching)\n",
    "* Define a dropout layer with `drop_prob`\n",
    "* Define a fully-connected layer with params: input size `n_hidden` and output size (the number of characters)\n",
    "* Finally, initialize the weights (again, this has been given)\n",
    "\n",
    "Note that some parameters have been named and given in the `__init__` function, and we use them and store them by doing something like `self.drop_prob = drop_prob`."
   ]
  },
  {
   "cell_type": "markdown",
   "metadata": {},
   "source": [
    "---\n",
    "### LSTM Inputs/Outputs\n",
    "\n",
    "You can create a basic [LSTM layer](https://pytorch.org/docs/stable/nn.html#lstm) as follows\n",
    "\n",
    "```python\n",
    "self.lstm = nn.LSTM(input_size, n_hidden, n_layers, \n",
    "                            dropout=drop_prob, batch_first=True)\n",
    "```\n",
    "\n",
    "where `input_size` is the number of characters this cell expects to see as sequential input, and `n_hidden` is the number of units in the hidden layers in the cell. And we can add dropout by adding a dropout parameter with a specified probability; this will automatically add dropout to the inputs or outputs. Finally, in the `forward` function, we can stack up the LSTM cells into layers using `.view`. With this, you pass in a list of cells and it will send the output of one cell into the next cell.\n",
    "\n",
    "We also need to create an initial hidden state of all zeros. This is done like so\n",
    "\n",
    "```python\n",
    "self.init_hidden()\n",
    "```"
   ]
  },
  {
   "cell_type": "code",
   "execution_count": 37,
   "metadata": {},
   "outputs": [
    {
     "name": "stdout",
     "output_type": "stream",
     "text": [
      "Training on GPU!\n"
     ]
    }
   ],
   "source": [
    "# check if GPU is available\n",
    "train_on_gpu = torch.cuda.is_available()\n",
    "if(train_on_gpu):\n",
    "    print('Training on GPU!')\n",
    "else: \n",
    "    print('No GPU available, training on CPU; consider making n_epochs very small.')"
   ]
  },
  {
   "cell_type": "code",
   "execution_count": 54,
   "metadata": {},
   "outputs": [],
   "source": [
    "class CharRNN(nn.Module):\n",
    "    \n",
    "    def __init__(self, tokens, n_hidden=256, n_layers=2,\n",
    "                               drop_prob=0.5, lr=0.001):\n",
    "        super().__init__()\n",
    "        self.drop_prob = drop_prob\n",
    "        self.n_layers = n_layers\n",
    "        self.n_hidden = n_hidden\n",
    "        self.lr = lr\n",
    "        \n",
    "        # creating character dictionaries\n",
    "        self.chars = tokens\n",
    "        self.int2char = dict(enumerate(self.chars))\n",
    "        self.char2int = {ch: ii for ii, ch in self.int2char.items()}\n",
    "        \n",
    "        ## TODO: define the layers of the model\n",
    "        self.lstm = nn.LSTM(len(self.chars), n_hidden, n_layers, dropout = drop_prob, batch_first = True)\n",
    "        \n",
    "        self.dropout = nn.Dropout(drop_prob)\n",
    "        \n",
    "        self.fc = nn.Linear(n_hidden, len(self.chars))\n",
    "      \n",
    "    \n",
    "    def forward(self, x, hidden):\n",
    "        ''' Forward pass through the network. \n",
    "            These inputs are x, and the hidden/cell state `hidden`. '''\n",
    "                \n",
    "        ## TODO: Get the outputs and the new hidden state from the lstm\n",
    "        output, hidden = self.lstm(x, hidden)\n",
    "        out = self.dropout(output)\n",
    "        \n",
    "        out = out.contiguous().view(-1, self.n_hidden)\n",
    "        \n",
    "        out = self.fc(out)\n",
    "        \n",
    "        # return the final output and the hidden state\n",
    "        return out, hidden\n",
    "    \n",
    "    \n",
    "    def init_hidden(self, batch_size):\n",
    "        ''' Initializes hidden state '''\n",
    "        # Create two new tensors with sizes n_layers x batch_size x n_hidden,\n",
    "        # initialized to zero, for hidden state and cell state of LSTM\n",
    "        weight = next(self.parameters()).data\n",
    "        \n",
    "        if (train_on_gpu):\n",
    "            hidden = (weight.new(self.n_layers, batch_size, self.n_hidden).zero_().cuda(),\n",
    "                  weight.new(self.n_layers, batch_size, self.n_hidden).zero_().cuda())\n",
    "        else:\n",
    "            hidden = (weight.new(self.n_layers, batch_size, self.n_hidden).zero_(),\n",
    "                      weight.new(self.n_layers, batch_size, self.n_hidden).zero_())\n",
    "        \n",
    "        return hidden\n",
    "        "
   ]
  },
  {
   "cell_type": "markdown",
   "metadata": {},
   "source": [
    "## Time to train\n",
    "\n",
    "The train function gives us the ability to set the number of epochs, the learning rate, and other parameters.\n",
    "\n",
    "Below we're using an Adam optimizer and cross entropy loss since we are looking at character class scores as output. We calculate the loss and perform backpropagation, as usual!\n",
    "\n",
    "A couple of details about training: \n",
    ">* Within the batch loop, we detach the hidden state from its history; this time setting it equal to a new *tuple* variable because an LSTM has a hidden state that is a tuple of the hidden and cell states.\n",
    "* We use [`clip_grad_norm_`](https://pytorch.org/docs/stable/_modules/torch/nn/utils/clip_grad.html) to help prevent exploding gradients."
   ]
  },
  {
   "cell_type": "code",
   "execution_count": 55,
   "metadata": {},
   "outputs": [],
   "source": [
    "def train(net, data, epochs=10, batch_size=10, seq_length=50, lr=0.001, clip=5, val_frac=0.1, print_every=10):\n",
    "    ''' Training a network \n",
    "    \n",
    "        Arguments\n",
    "        ---------\n",
    "        \n",
    "        net: CharRNN network\n",
    "        data: text data to train the network\n",
    "        epochs: Number of epochs to train\n",
    "        batch_size: Number of mini-sequences per mini-batch, aka batch size\n",
    "        seq_length: Number of character steps per mini-batch\n",
    "        lr: learning rate\n",
    "        clip: gradient clipping\n",
    "        val_frac: Fraction of data to hold out for validation\n",
    "        print_every: Number of steps for printing training and validation loss\n",
    "    \n",
    "    '''\n",
    "    net.train()\n",
    "    \n",
    "    opt = torch.optim.Adam(net.parameters(), lr=lr)\n",
    "    criterion = nn.CrossEntropyLoss()\n",
    "    \n",
    "    # create training and validation data\n",
    "    val_idx = int(len(data)*(1-val_frac))\n",
    "    data, val_data = data[:val_idx], data[val_idx:]\n",
    "    \n",
    "    if(train_on_gpu):\n",
    "        net.cuda()\n",
    "    \n",
    "    counter = 0\n",
    "    n_chars = len(net.chars)\n",
    "    for e in range(epochs):\n",
    "        # initialize hidden state\n",
    "        h = net.init_hidden(batch_size)\n",
    "        \n",
    "        for x, y in get_batches(data, batch_size, seq_length):\n",
    "            counter += 1\n",
    "            \n",
    "            # One-hot encode our data and make them Torch tensors\n",
    "            x = one_hot_encode(x, n_chars)\n",
    "            inputs, targets = torch.from_numpy(x), torch.from_numpy(y)\n",
    "            \n",
    "            if(train_on_gpu):\n",
    "                inputs, targets = inputs.cuda(), targets.cuda()\n",
    "\n",
    "            # Creating new variables for the hidden state, otherwise\n",
    "            # we'd backprop through the entire training history\n",
    "            h = tuple([each.data for each in h])\n",
    "\n",
    "            # zero accumulated gradients\n",
    "            net.zero_grad()\n",
    "            \n",
    "            # get the output from the model\n",
    "            output, h = net(inputs, h)\n",
    "            \n",
    "            # calculate the loss and perform backprop\n",
    "            loss = criterion(output, targets.view(batch_size*seq_length).long())\n",
    "            loss.backward()\n",
    "            # `clip_grad_norm` helps prevent the exploding gradient problem in RNNs / LSTMs.\n",
    "            nn.utils.clip_grad_norm_(net.parameters(), clip)\n",
    "            opt.step()\n",
    "            \n",
    "            # loss stats\n",
    "            if counter % print_every == 0:\n",
    "                # Get validation loss\n",
    "                val_h = net.init_hidden(batch_size)\n",
    "                val_losses = []\n",
    "                net.eval()\n",
    "                for x, y in get_batches(val_data, batch_size, seq_length):\n",
    "                    # One-hot encode our data and make them Torch tensors\n",
    "                    x = one_hot_encode(x, n_chars)\n",
    "                    x, y = torch.from_numpy(x), torch.from_numpy(y)\n",
    "                    \n",
    "                    # Creating new variables for the hidden state, otherwise\n",
    "                    # we'd backprop through the entire training history\n",
    "                    val_h = tuple([each.data for each in val_h])\n",
    "                    \n",
    "                    inputs, targets = x, y\n",
    "                    if(train_on_gpu):\n",
    "                        inputs, targets = inputs.cuda(), targets.cuda()\n",
    "\n",
    "                    output, val_h = net(inputs, val_h)\n",
    "                    val_loss = criterion(output, targets.view(batch_size*seq_length).long())\n",
    "                \n",
    "                    val_losses.append(val_loss.item())\n",
    "                \n",
    "                net.train() # reset to train mode after iterationg through validation data\n",
    "                \n",
    "                print(\"Epoch: {}/{}...\".format(e+1, epochs),\n",
    "                      \"Step: {}...\".format(counter),\n",
    "                      \"Loss: {:.4f}...\".format(loss.item()),\n",
    "                      \"Val Loss: {:.4f}\".format(np.mean(val_losses)))"
   ]
  },
  {
   "cell_type": "markdown",
   "metadata": {},
   "source": [
    "## Instantiating the model\n",
    "\n",
    "Now we can actually train the network. First we'll create the network itself, with some given hyperparameters. Then, define the mini-batches sizes, and start training!"
   ]
  },
  {
   "cell_type": "code",
   "execution_count": 56,
   "metadata": {},
   "outputs": [
    {
     "name": "stdout",
     "output_type": "stream",
     "text": [
      "CharRNN(\n",
      "  (lstm): LSTM(83, 512, num_layers=2, batch_first=True, dropout=0.5)\n",
      "  (dropout): Dropout(p=0.5, inplace=False)\n",
      "  (fc): Linear(in_features=512, out_features=83, bias=True)\n",
      ")\n"
     ]
    }
   ],
   "source": [
    "## TODO: set your model hyperparameters\n",
    "# define and print the net\n",
    "n_hidden=512\n",
    "n_layers=2\n",
    "\n",
    "net = CharRNN(chars, n_hidden, n_layers)\n",
    "print(net)"
   ]
  },
  {
   "cell_type": "markdown",
   "metadata": {},
   "source": [
    "### Set your training hyperparameters!"
   ]
  },
  {
   "cell_type": "code",
   "execution_count": null,
   "metadata": {
    "scrolled": true
   },
   "outputs": [
    {
     "name": "stdout",
     "output_type": "stream",
     "text": [
      "Epoch: 1/10... Step: 10... Loss: 3.2683... Val Loss: 3.1811\n",
      "Epoch: 1/10... Step: 20... Loss: 3.1505... Val Loss: 3.1322\n",
      "Epoch: 1/10... Step: 30... Loss: 3.1488... Val Loss: 3.1223\n",
      "Epoch: 1/10... Step: 40... Loss: 3.1156... Val Loss: 3.1193\n",
      "Epoch: 1/10... Step: 50... Loss: 3.1397... Val Loss: 3.1179\n",
      "Epoch: 1/10... Step: 60... Loss: 3.1212... Val Loss: 3.1163\n",
      "Epoch: 1/10... Step: 70... Loss: 3.1143... Val Loss: 3.1155\n",
      "Epoch: 1/10... Step: 80... Loss: 3.1249... Val Loss: 3.1128\n",
      "Epoch: 1/10... Step: 90... Loss: 3.1231... Val Loss: 3.1072\n",
      "Epoch: 1/10... Step: 100... Loss: 3.1052... Val Loss: 3.0979\n",
      "Epoch: 1/10... Step: 110... Loss: 3.0911... Val Loss: 3.0755\n",
      "Epoch: 1/10... Step: 120... Loss: 3.0326... Val Loss: 3.0310\n",
      "Epoch: 1/10... Step: 130... Loss: 2.9851... Val Loss: 2.9467\n",
      "Epoch: 2/10... Step: 140... Loss: 2.9025... Val Loss: 2.8629\n",
      "Epoch: 2/10... Step: 150... Loss: 2.8140... Val Loss: 2.8792\n",
      "Epoch: 2/10... Step: 160... Loss: 2.7390... Val Loss: 2.7000\n",
      "Epoch: 2/10... Step: 170... Loss: 2.6354... Val Loss: 2.6092\n",
      "Epoch: 2/10... Step: 180... Loss: 2.5925... Val Loss: 2.5768\n",
      "Epoch: 2/10... Step: 190... Loss: 2.5289... Val Loss: 2.5171\n",
      "Epoch: 2/10... Step: 200... Loss: 2.5170... Val Loss: 2.4905\n",
      "Epoch: 2/10... Step: 210... Loss: 2.4759... Val Loss: 2.4515\n",
      "Epoch: 2/10... Step: 220... Loss: 2.4486... Val Loss: 2.4181\n",
      "Epoch: 2/10... Step: 230... Loss: 2.4262... Val Loss: 2.3894\n",
      "Epoch: 2/10... Step: 240... Loss: 2.4185... Val Loss: 2.3651\n",
      "Epoch: 2/10... Step: 250... Loss: 2.3536... Val Loss: 2.3411\n",
      "Epoch: 2/10... Step: 260... Loss: 2.3352... Val Loss: 2.3228\n",
      "Epoch: 2/10... Step: 270... Loss: 2.3320... Val Loss: 2.2967\n",
      "Epoch: 3/10... Step: 280... Loss: 2.3376... Val Loss: 2.2791\n",
      "Epoch: 3/10... Step: 290... Loss: 2.2999... Val Loss: 2.2599\n",
      "Epoch: 3/10... Step: 300... Loss: 2.2794... Val Loss: 2.2354\n",
      "Epoch: 3/10... Step: 310... Loss: 2.2641... Val Loss: 2.2307\n",
      "Epoch: 3/10... Step: 320... Loss: 2.2357... Val Loss: 2.1994\n",
      "Epoch: 3/10... Step: 330... Loss: 2.2014... Val Loss: 2.1861\n",
      "Epoch: 3/10... Step: 340... Loss: 2.2077... Val Loss: 2.1668\n",
      "Epoch: 3/10... Step: 350... Loss: 2.1998... Val Loss: 2.1512\n",
      "Epoch: 3/10... Step: 360... Loss: 2.1351... Val Loss: 2.1303\n",
      "Epoch: 3/10... Step: 370... Loss: 2.1533... Val Loss: 2.1160\n",
      "Epoch: 3/10... Step: 380... Loss: 2.1412... Val Loss: 2.1020\n",
      "Epoch: 3/10... Step: 390... Loss: 2.1145... Val Loss: 2.0847\n",
      "Epoch: 3/10... Step: 400... Loss: 2.0836... Val Loss: 2.0686\n",
      "Epoch: 3/10... Step: 410... Loss: 2.1028... Val Loss: 2.0543\n",
      "Epoch: 4/10... Step: 420... Loss: 2.0783... Val Loss: 2.0402\n",
      "Epoch: 4/10... Step: 430... Loss: 2.0674... Val Loss: 2.0305\n",
      "Epoch: 4/10... Step: 440... Loss: 2.0624... Val Loss: 2.0265\n",
      "Epoch: 4/10... Step: 450... Loss: 1.9918... Val Loss: 2.0021\n",
      "Epoch: 4/10... Step: 460... Loss: 1.9944... Val Loss: 1.9904\n",
      "Epoch: 4/10... Step: 470... Loss: 2.0194... Val Loss: 1.9796\n",
      "Epoch: 4/10... Step: 480... Loss: 2.0018... Val Loss: 1.9784\n",
      "Epoch: 4/10... Step: 490... Loss: 1.9984... Val Loss: 1.9620\n",
      "Epoch: 4/10... Step: 500... Loss: 1.9984... Val Loss: 1.9452\n",
      "Epoch: 4/10... Step: 510... Loss: 1.9656... Val Loss: 1.9321\n",
      "Epoch: 4/10... Step: 520... Loss: 1.9944... Val Loss: 1.9207\n",
      "Epoch: 4/10... Step: 530... Loss: 1.9361... Val Loss: 1.9106\n",
      "Epoch: 4/10... Step: 540... Loss: 1.9032... Val Loss: 1.8999\n",
      "Epoch: 4/10... Step: 550... Loss: 1.9431... Val Loss: 1.8868\n",
      "Epoch: 5/10... Step: 560... Loss: 1.9108... Val Loss: 1.8772\n",
      "Epoch: 5/10... Step: 570... Loss: 1.8907... Val Loss: 1.8675\n",
      "Epoch: 5/10... Step: 580... Loss: 1.8852... Val Loss: 1.8589\n",
      "Epoch: 5/10... Step: 590... Loss: 1.8854... Val Loss: 1.8486\n",
      "Epoch: 5/10... Step: 600... Loss: 1.8562... Val Loss: 1.8390\n",
      "Epoch: 5/10... Step: 610... Loss: 1.8501... Val Loss: 1.8376\n",
      "Epoch: 5/10... Step: 620... Loss: 1.8536... Val Loss: 1.8230\n",
      "Epoch: 5/10... Step: 630... Loss: 1.8704... Val Loss: 1.8114\n",
      "Epoch: 5/10... Step: 640... Loss: 1.8359... Val Loss: 1.8033\n",
      "Epoch: 5/10... Step: 650... Loss: 1.8185... Val Loss: 1.7946\n",
      "Epoch: 5/10... Step: 660... Loss: 1.7858... Val Loss: 1.7877\n",
      "Epoch: 5/10... Step: 670... Loss: 1.8190... Val Loss: 1.7774\n",
      "Epoch: 5/10... Step: 680... Loss: 1.8086... Val Loss: 1.7699\n",
      "Epoch: 5/10... Step: 690... Loss: 1.7934... Val Loss: 1.7649\n",
      "Epoch: 6/10... Step: 700... Loss: 1.7842... Val Loss: 1.7594\n",
      "Epoch: 6/10... Step: 710... Loss: 1.7845... Val Loss: 1.7462\n",
      "Epoch: 6/10... Step: 720... Loss: 1.7556... Val Loss: 1.7399\n",
      "Epoch: 6/10... Step: 730... Loss: 1.7789... Val Loss: 1.7301\n",
      "Epoch: 6/10... Step: 740... Loss: 1.7420... Val Loss: 1.7260\n",
      "Epoch: 6/10... Step: 750... Loss: 1.7176... Val Loss: 1.7194\n",
      "Epoch: 6/10... Step: 760... Loss: 1.7626... Val Loss: 1.7123\n",
      "Epoch: 6/10... Step: 770... Loss: 1.7418... Val Loss: 1.7045\n",
      "Epoch: 6/10... Step: 780... Loss: 1.7177... Val Loss: 1.7015\n",
      "Epoch: 6/10... Step: 790... Loss: 1.7217... Val Loss: 1.6928\n",
      "Epoch: 6/10... Step: 800... Loss: 1.7193... Val Loss: 1.6899\n",
      "Epoch: 6/10... Step: 810... Loss: 1.7115... Val Loss: 1.6817\n",
      "Epoch: 6/10... Step: 820... Loss: 1.6752... Val Loss: 1.6776\n",
      "Epoch: 6/10... Step: 830... Loss: 1.7149... Val Loss: 1.6705\n",
      "Epoch: 7/10... Step: 840... Loss: 1.6751... Val Loss: 1.6626\n",
      "Epoch: 7/10... Step: 850... Loss: 1.6840... Val Loss: 1.6560\n",
      "Epoch: 7/10... Step: 860... Loss: 1.6625... Val Loss: 1.6488\n",
      "Epoch: 7/10... Step: 870... Loss: 1.6780... Val Loss: 1.6456\n",
      "Epoch: 7/10... Step: 880... Loss: 1.6880... Val Loss: 1.6398\n",
      "Epoch: 7/10... Step: 890... Loss: 1.6672... Val Loss: 1.6378\n",
      "Epoch: 7/10... Step: 900... Loss: 1.6524... Val Loss: 1.6330\n",
      "Epoch: 7/10... Step: 910... Loss: 1.6149... Val Loss: 1.6251\n",
      "Epoch: 7/10... Step: 920... Loss: 1.6541... Val Loss: 1.6228\n",
      "Epoch: 7/10... Step: 930... Loss: 1.6411... Val Loss: 1.6152\n",
      "Epoch: 7/10... Step: 940... Loss: 1.6327... Val Loss: 1.6119\n",
      "Epoch: 7/10... Step: 950... Loss: 1.6439... Val Loss: 1.6057\n",
      "Epoch: 7/10... Step: 960... Loss: 1.6453... Val Loss: 1.6023\n",
      "Epoch: 7/10... Step: 970... Loss: 1.6465... Val Loss: 1.6008\n",
      "Epoch: 8/10... Step: 980... Loss: 1.6053... Val Loss: 1.5911\n",
      "Epoch: 8/10... Step: 990... Loss: 1.6161... Val Loss: 1.5883\n",
      "Epoch: 8/10... Step: 1000... Loss: 1.6138... Val Loss: 1.5855\n",
      "Epoch: 8/10... Step: 1010... Loss: 1.6440... Val Loss: 1.5798\n",
      "Epoch: 8/10... Step: 1020... Loss: 1.6072... Val Loss: 1.5773\n",
      "Epoch: 8/10... Step: 1030... Loss: 1.5884... Val Loss: 1.5721\n",
      "Epoch: 8/10... Step: 1040... Loss: 1.5974... Val Loss: 1.5712\n",
      "Epoch: 8/10... Step: 1050... Loss: 1.5783... Val Loss: 1.5623\n",
      "Epoch: 8/10... Step: 1060... Loss: 1.5856... Val Loss: 1.5599\n",
      "Epoch: 8/10... Step: 1070... Loss: 1.5965... Val Loss: 1.5582\n",
      "Epoch: 8/10... Step: 1080... Loss: 1.5862... Val Loss: 1.5552\n",
      "Epoch: 8/10... Step: 1090... Loss: 1.5562... Val Loss: 1.5512\n",
      "Epoch: 8/10... Step: 1100... Loss: 1.5621... Val Loss: 1.5475\n",
      "Epoch: 8/10... Step: 1110... Loss: 1.5690... Val Loss: 1.5420\n",
      "Epoch: 9/10... Step: 1120... Loss: 1.5719... Val Loss: 1.5378\n",
      "Epoch: 9/10... Step: 1130... Loss: 1.5634... Val Loss: 1.5353\n",
      "Epoch: 9/10... Step: 1140... Loss: 1.5681... Val Loss: 1.5320\n",
      "Epoch: 9/10... Step: 1150... Loss: 1.5780... Val Loss: 1.5291\n",
      "Epoch: 9/10... Step: 1160... Loss: 1.5291... Val Loss: 1.5291\n",
      "Epoch: 9/10... Step: 1170... Loss: 1.5404... Val Loss: 1.5226\n",
      "Epoch: 9/10... Step: 1180... Loss: 1.5369... Val Loss: 1.5213\n",
      "Epoch: 9/10... Step: 1190... Loss: 1.5593... Val Loss: 1.5191\n",
      "Epoch: 9/10... Step: 1200... Loss: 1.5177... Val Loss: 1.5135\n",
      "Epoch: 9/10... Step: 1210... Loss: 1.5254... Val Loss: 1.5128\n",
      "Epoch: 9/10... Step: 1220... Loss: 1.5215... Val Loss: 1.5095\n",
      "Epoch: 9/10... Step: 1230... Loss: 1.5040... Val Loss: 1.5044\n",
      "Epoch: 9/10... Step: 1240... Loss: 1.5066... Val Loss: 1.4997\n",
      "Epoch: 9/10... Step: 1250... Loss: 1.5200... Val Loss: 1.5014\n",
      "Epoch: 10/10... Step: 1260... Loss: 1.5236... Val Loss: 1.4967\n",
      "Epoch: 10/10... Step: 1270... Loss: 1.5135... Val Loss: 1.4965\n",
      "Epoch: 10/10... Step: 1280... Loss: 1.5304... Val Loss: 1.4897\n",
      "Epoch: 10/10... Step: 1290... Loss: 1.5166... Val Loss: 1.4899\n",
      "Epoch: 10/10... Step: 1300... Loss: 1.4981... Val Loss: 1.4884\n",
      "Epoch: 10/10... Step: 1310... Loss: 1.5089... Val Loss: 1.4825\n"
     ]
    }
   ],
   "source": [
    "batch_size = 128\n",
    "seq_length = 100\n",
    "n_epochs =  10# start small if you are just testing initial behavior\n",
    "\n",
    "# train the model\n",
    "train(net, encoded, epochs=n_epochs, batch_size=batch_size, seq_length=seq_length, lr=0.001, print_every=10)"
   ]
  },
  {
   "cell_type": "markdown",
   "metadata": {},
   "source": [
    "## Getting the best model\n",
    "\n",
    "To set your hyperparameters to get the best performance, you'll want to watch the training and validation losses. If your training loss is much lower than the validation loss, you're overfitting. Increase regularization (more dropout) or use a smaller network. If the training and validation losses are close, you're underfitting so you can increase the size of the network."
   ]
  },
  {
   "cell_type": "markdown",
   "metadata": {},
   "source": [
    "## Hyperparameters\n",
    "\n",
    "Here are the hyperparameters for the network.\n",
    "\n",
    "In defining the model:\n",
    "* `n_hidden` - The number of units in the hidden layers.\n",
    "* `n_layers` - Number of hidden LSTM layers to use.\n",
    "\n",
    "We assume that dropout probability and learning rate will be kept at the default, in this example.\n",
    "\n",
    "And in training:\n",
    "* `batch_size` - Number of sequences running through the network in one pass.\n",
    "* `seq_length` - Number of characters in the sequence the network is trained on. Larger is better typically, the network will learn more long range dependencies. But it takes longer to train. 100 is typically a good number here.\n",
    "* `lr` - Learning rate for training\n",
    "\n",
    "Here's some good advice from Andrej Karpathy on training the network. I'm going to copy it in here for your benefit, but also link to [where it originally came from](https://github.com/karpathy/char-rnn#tips-and-tricks).\n",
    "\n",
    "> ## Tips and Tricks\n",
    "\n",
    ">### Monitoring Validation Loss vs. Training Loss\n",
    ">If you're somewhat new to Machine Learning or Neural Networks it can take a bit of expertise to get good models. The most important quantity to keep track of is the difference between your training loss (printed during training) and the validation loss (printed once in a while when the RNN is run on the validation data (by default every 1000 iterations)). In particular:\n",
    "\n",
    "> - If your training loss is much lower than validation loss then this means the network might be **overfitting**. Solutions to this are to decrease your network size, or to increase dropout. For example you could try dropout of 0.5 and so on.\n",
    "> - If your training/validation loss are about equal then your model is **underfitting**. Increase the size of your model (either number of layers or the raw number of neurons per layer)\n",
    "\n",
    "> ### Approximate number of parameters\n",
    "\n",
    "> The two most important parameters that control the model are `n_hidden` and `n_layers`. I would advise that you always use `n_layers` of either 2/3. The `n_hidden` can be adjusted based on how much data you have. The two important quantities to keep track of here are:\n",
    "\n",
    "> - The number of parameters in your model. This is printed when you start training.\n",
    "> - The size of your dataset. 1MB file is approximately 1 million characters.\n",
    "\n",
    ">These two should be about the same order of magnitude. It's a little tricky to tell. Here are some examples:\n",
    "\n",
    "> - I have a 100MB dataset and I'm using the default parameter settings (which currently print 150K parameters). My data size is significantly larger (100 mil >> 0.15 mil), so I expect to heavily underfit. I am thinking I can comfortably afford to make `n_hidden` larger.\n",
    "> - I have a 10MB dataset and running a 10 million parameter model. I'm slightly nervous and I'm carefully monitoring my validation loss. If it's larger than my training loss then I may want to try to increase dropout a bit and see if that helps the validation loss.\n",
    "\n",
    "> ### Best models strategy\n",
    "\n",
    ">The winning strategy to obtaining very good models (if you have the compute time) is to always err on making the network larger (as large as you're willing to wait for it to compute) and then try different dropout values (between 0,1). Whatever model has the best validation performance (the loss, written in the checkpoint filename, low is good) is the one you should use in the end.\n",
    "\n",
    ">It is very common in deep learning to run many different models with many different hyperparameter settings, and in the end take whatever checkpoint gave the best validation performance.\n",
    "\n",
    ">By the way, the size of your training and validation splits are also parameters. Make sure you have a decent amount of data in your validation set or otherwise the validation performance will be noisy and not very informative."
   ]
  },
  {
   "cell_type": "markdown",
   "metadata": {},
   "source": [
    "## Checkpoint\n",
    "\n",
    "After training, we'll save the model so we can load it again later if we need too. Here I'm saving the parameters needed to create the same architecture, the hidden layer hyperparameters and the text characters."
   ]
  },
  {
   "cell_type": "code",
   "execution_count": 42,
   "metadata": {},
   "outputs": [],
   "source": [
    "# change the name, for saving multiple files\n",
    "model_name = 'rnn_x_epoch.net'\n",
    "\n",
    "checkpoint = {'n_hidden': net.n_hidden,\n",
    "              'n_layers': net.n_layers,\n",
    "              'state_dict': net.state_dict(),\n",
    "              'tokens': net.chars}\n",
    "\n",
    "with open(model_name, 'wb') as f:\n",
    "    torch.save(checkpoint, f)"
   ]
  },
  {
   "cell_type": "markdown",
   "metadata": {},
   "source": [
    "---\n",
    "## Making Predictions\n",
    "\n",
    "Now that the model is trained, we'll want to sample from it and make predictions about next characters! To sample, we pass in a character and have the network predict the next character. Then we take that character, pass it back in, and get another predicted character. Just keep doing this and you'll generate a bunch of text!\n",
    "\n",
    "### A note on the `predict`  function\n",
    "\n",
    "The output of our RNN is from a fully-connected layer and it outputs a **distribution of next-character scores**.\n",
    "\n",
    "> To actually get the next character, we apply a softmax function, which gives us a *probability* distribution that we can then sample to predict the next character.\n",
    "\n",
    "### Top K sampling\n",
    "\n",
    "Our predictions come from a categorical probability distribution over all the possible characters. We can make the sample text and make it more reasonable to handle (with less variables) by only considering some $K$ most probable characters. This will prevent the network from giving us completely absurd characters while allowing it to introduce some noise and randomness into the sampled text. Read more about [topk, here](https://pytorch.org/docs/stable/torch.html#torch.topk).\n"
   ]
  },
  {
   "cell_type": "code",
   "execution_count": 43,
   "metadata": {},
   "outputs": [],
   "source": [
    "def predict(net, char, h=None, top_k=None):\n",
    "        ''' Given a character, predict the next character.\n",
    "            Returns the predicted character and the hidden state.\n",
    "        '''\n",
    "        \n",
    "        # tensor inputs\n",
    "        x = np.array([[net.char2int[char]]])\n",
    "        x = one_hot_encode(x, len(net.chars))\n",
    "        inputs = torch.from_numpy(x)\n",
    "        \n",
    "        if(train_on_gpu):\n",
    "            inputs = inputs.cuda()\n",
    "        \n",
    "        # detach hidden state from history\n",
    "        h = tuple([each.data for each in h])\n",
    "        # get the output of the model\n",
    "        out, h = net(inputs, h)\n",
    "\n",
    "        # get the character probabilities\n",
    "        p = F.softmax(out, dim=1).data\n",
    "        if(train_on_gpu):\n",
    "            p = p.cpu() # move to cpu\n",
    "        \n",
    "        # get top characters\n",
    "        if top_k is None:\n",
    "            top_ch = np.arange(len(net.chars))\n",
    "        else:\n",
    "            p, top_ch = p.topk(top_k)\n",
    "            top_ch = top_ch.numpy().squeeze()\n",
    "        \n",
    "        # select the likely next character with some element of randomness\n",
    "        p = p.numpy().squeeze()\n",
    "        char = np.random.choice(top_ch, p=p/p.sum())\n",
    "        \n",
    "        # return the encoded value of the predicted char and the hidden state\n",
    "        return net.int2char[char], h"
   ]
  },
  {
   "cell_type": "markdown",
   "metadata": {},
   "source": [
    "### Priming and generating text \n",
    "\n",
    "Typically you'll want to prime the network so you can build up a hidden state. Otherwise the network will start out generating characters at random. In general the first bunch of characters will be a little rough since it hasn't built up a long history of characters to predict from."
   ]
  },
  {
   "cell_type": "code",
   "execution_count": 44,
   "metadata": {},
   "outputs": [],
   "source": [
    "def sample(net, size, prime='The', top_k=None):\n",
    "        \n",
    "    if(train_on_gpu):\n",
    "        net.cuda()\n",
    "    else:\n",
    "        net.cpu()\n",
    "    \n",
    "    net.eval() # eval mode\n",
    "    \n",
    "    # First off, run through the prime characters\n",
    "    chars = [ch for ch in prime]\n",
    "    h = net.init_hidden(1)\n",
    "    for ch in prime:\n",
    "        char, h = predict(net, ch, h, top_k=top_k)\n",
    "\n",
    "    chars.append(char)\n",
    "    \n",
    "    # Now pass in the previous character and get a new one\n",
    "    for ii in range(size):\n",
    "        char, h = predict(net, chars[-1], h, top_k=top_k)\n",
    "        chars.append(char)\n",
    "\n",
    "    return ''.join(chars)"
   ]
  },
  {
   "cell_type": "code",
   "execution_count": 45,
   "metadata": {},
   "outputs": [
    {
     "name": "stdout",
     "output_type": "stream",
     "text": [
      "AnnaNpU*NNN11U1pN*NNUUN**UNUN*pUN1*N*1UNpU1NN1N*1NUU*p1NNN1U1p11UN1Np*1pU*N1*UNUpp1U*pU1U*UpNUNpN1UppUN1pNppp*N11U1p**NU1*1pp*11N1U1NNppNN111*N*1UNUNpNpNp*p*pNUN*11Up1*p*pUppNpNUpN*UN*UUNNU*U***UU*1UN11*N1pUN*p1***Up*pp*p*UUN11U1UpNN*pN**p*U1NpU1*N1Up1N**ppUUNN*UppNN1UpUU*N1ppN**NNU1pp1*N**1NUN*UpUp1N*1pp1NU1*U1*11pNU*UNNp1UU***1p*11Np*pppU*N1U11*p1p***p1p*U1*N*Np11pppU*NU*1UU1N1U1UUUNNNNpp**pU*1N***p*UpUU111**N11U1Up111pN1ppUU1U1**1111NpUUp*1pU*N11**11NUpNUp*NN1p11NU*pp*UNpNU*U1pUN*1UUN1*ppU*11NU*1*N1NpNUpp*UNUpUp*UU1*NN1p1Up*11p*Up*p1*UU1NUp*U*U1p*p1UNUN*N1N1UUNUpN*p1*U1*pNNp1NUpUUN*11UUNp1N1U**UNNUU*NU*U*Np1UpU1Up**11N**pN****UUUN**UN**1*pU1*UUU*U11p*11NU11*Np*1*pUNU*1p**111UpU*Upp11*pp1*1NUUN**pU1NUp*pN*1N1p*NUp*1NpUNpp*NU1UUppUNppNNN*U*UNNN*UpNNU1NUUp1UUU1NUN*pNN*N11N**p*1UNNppNpp*UN*11U1*UN*NpN1*NU11UppU11U*p1pUp11p*NpU1p*pU1p11N11U1NNNN1pp*pp11NNpUU*NU1NNU**pU1pp111pNNppU1pUNpNUUpN1**N1**NNNN1***pp*1111UpNU11*1p*1U*1Np1p1pppp*UNUpUU1pppN**p*1N1N*UpU11pUN1NNN1pN11UNp1ppNp*U*1N*Up11pUU\n"
     ]
    }
   ],
   "source": [
    "print(sample(net, 1000, prime='Anna', top_k=5))"
   ]
  },
  {
   "cell_type": "markdown",
   "metadata": {},
   "source": [
    "## Loading a checkpoint"
   ]
  },
  {
   "cell_type": "code",
   "execution_count": 46,
   "metadata": {},
   "outputs": [
    {
     "data": {
      "text/plain": [
       "<All keys matched successfully>"
      ]
     },
     "execution_count": 46,
     "metadata": {},
     "output_type": "execute_result"
    }
   ],
   "source": [
    "# Here we have loaded in a model that trained over 20 epochs `rnn_20_epoch.net`\n",
    "with open('rnn_x_epoch.net', 'rb') as f:\n",
    "    checkpoint = torch.load(f)\n",
    "    \n",
    "loaded = CharRNN(checkpoint['tokens'], n_hidden=checkpoint['n_hidden'], n_layers=checkpoint['n_layers'])\n",
    "loaded.load_state_dict(checkpoint['state_dict'])"
   ]
  },
  {
   "cell_type": "code",
   "execution_count": 47,
   "metadata": {},
   "outputs": [
    {
     "name": "stdout",
     "output_type": "stream",
     "text": [
      "And Levin said1UpNU**UU*N**1N*N1*UU1*1ppNNUUU**1p11NU1U1U1Np11Np*1*UUUp11N*N1N111p111N*11*1pNpUp1Up1N1U*UpUU1N*11p**U1pN11U*1UN1pUpUp*1NU*UNp*1*1pU1Up1**N*NpU*1NNpUU*Npp1UUU1UUppN*UU*1U*1pU*U*ppU*UNN**11NNU*1N*111NU*UpUN1UNU11ppUNNp*NN1N*UppNN*pNp1NNp1Up1pp*1NN**NpUUNNp*UNUp1NNU*1*11N****N*111NNpp**N1N1*11N1N11UUUpUN11N1NNUUpN**11***1**1p1p1p1pNUN*UpUUp*pU1*11**pNNp*1*1NpNU*U1U1N1*Np1p*1pNppp*p1pU1*UNNp*N*p1*U111*111pN*NNNU*1*11N*11NppNU**Up1p*NN1*N*1*p*11U1NU*1Np*p*pN11p*UU*pNNNN*U1N***NNN11*1*1*UUpU1U*UpUNNp1Up*1UU*U*Np1*N*U1UNp1*NNU*U111**UN*NNp1*p*UUUN*ppNUp11N11*pp**U**11N*1*1pUpU*p*U**N1NpU11UppNUU1*p1pUU*N1*1pU1U1U1Np*UNNNp**U1*1U1pUpUp11NNUNppUUU11U111N1p11*1pU*NpNNU*U11*1*1U*ppN1*UNU1*N*U1U1pU**p1UUUN**U1U1Np*UpUUNU1p1N1*N*U*pp1pNp*UpUpUUppN*U11UUp1UpN*pN1*1N1NN1UUNUUNU*NpNpNUNUpU1UU1**1pNUpUU11*1*NpUUU1U*pUpp*111N1p11N1pN*NU1pUpUpU*UN*ppN*UN1NU*Npp1pppUUUUpN*1U*p1UUNNUU**NUUN*UNp1p***NU1Np1*11**11N1*p1**11N*pN1p1*NN11UN1*NpNpUN*1U11*pUpppN*UNUU11N*UUpUp1N*UppN1N1pUNp*1p*p*pNN1111pU*UpUN1*pUNp1UpN1*pUp1*NUpU*1N*1UNUN*11*1NNNpN1ppUN1UU1NUUNU*UpUN*1*ppN*pUpN*1*1Np1N*U*N1*U1p*p*UN111UUU1*p11*U*Up1U*ppN11N*p1pNppUpU1*Np*UUNN*UNN11N***1UppNpUUpN*1NUNUN1ppUNpNU111*UN*****pp*1pp**Npp1NN*N*p***1NNNNNU1U1*NN1U*Np*p*UNpNUp1NUUUUN*1*U**pUN*p1pNpNpNpUU1pUpp1U1N*pUpNNp*pp*1*11NUp11*UU*1NUp*NN*N1UUpppUpU11*U*NUp*p111pUUN1Up**NN*UU*NppNpN1NNp*111N*U**UN*11*p*pN1111U1*UUN1UNUU1UN*NN*p1NN1p1NUNpUUU11Np1U11NU*pp*p*N*1*U**111NppppU*NN1N1pNN*1pp1p*NNNUUNUU*pUp1p111pUpN*pUpU*U1UUN11U1p*pU1N1UNNppU*pp*pUp*N1ppU*p1UppUp1NU11*pNNNU1*pN1*1U1UNNp1NN1*UNpNUNUp*p1U1pU*1p1*ppU*pNp**NNpNNUNNN*p*NUUpU1NUN1Np*U*N1*N*ppN1UNp*1***pp*NpN**pU**p*1pUUU1NNp1Np*pN1*N1*p*p*111*UU*1111UNNN11UNN***1N*N1UN*UpU11U1pNpUNpp1NpUNp*1NpU1p*NUpUUp*NN1*U1N1N**UpN*1p1**pNU***UU1UU1UNUNpUp*pU*UpNpUUNUpUU11*1*U1NNU*1U*1Np1*UUp1*1UpUUp**U1p*N11N1*N*11U*N*UN1N1U*UpNU11Np*UpNUU*1p11*pU*p1N*p1p1U1N*1p1*pU11U11UpUppU1N111UUNUUpN11*1**pppUNNU1U1**p*U*NpNN*pUU*N1*pUUNN1UppNp*N*U1***p1**1U1U1Np11N**U1*pU*N1*p1N*NpN**U1N1N*U*NN*U*UUN\n"
     ]
    }
   ],
   "source": [
    "# Sample using a loaded model\n",
    "print(sample(loaded, 2000, top_k=5, prime=\"And Levin said\"))"
   ]
  },
  {
   "cell_type": "code",
   "execution_count": null,
   "metadata": {
    "collapsed": true
   },
   "outputs": [],
   "source": []
  }
 ],
 "metadata": {
  "kernelspec": {
   "display_name": "Python 3",
   "language": "python",
   "name": "python3"
  },
  "language_info": {
   "codemirror_mode": {
    "name": "ipython",
    "version": 3
   },
   "file_extension": ".py",
   "mimetype": "text/x-python",
   "name": "python",
   "nbconvert_exporter": "python",
   "pygments_lexer": "ipython3",
   "version": "3.7.6"
  }
 },
 "nbformat": 4,
 "nbformat_minor": 2
}
